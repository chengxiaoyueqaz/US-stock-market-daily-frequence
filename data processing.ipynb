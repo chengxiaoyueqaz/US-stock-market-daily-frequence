{
 "cells": [
  {
   "cell_type": "code",
   "execution_count": 1,
   "id": "017ebfe8",
   "metadata": {},
   "outputs": [],
   "source": [
    "import pandas as pd\n",
    "import numpy as np\n",
    "import math\n",
    "import warnings\n",
    "import matplotlib.pyplot as plt\n",
    "warnings.filterwarnings('ignore')\n"
   ]
  },
  {
   "cell_type": "code",
   "execution_count": 2,
   "id": "ae71627c",
   "metadata": {},
   "outputs": [],
   "source": [
    "#quarter features\n",
    "feature_1 = pd.read_csv(\"data_set_1.csv\")\n",
    "feature_2 = pd.read_csv(\"data_set_2.csv\")\n",
    "feature_3 = pd.read_csv(\"data_set_3.csv\")\n",
    "feature_4 = pd.read_csv(\"data_set_4.csv\")\n",
    "feature_5 = pd.read_csv(\"data_set_5.csv\")\n",
    "feature_6 = pd.read_csv(\"data_set_6.csv\")\n",
    "feature_7 = pd.read_csv(\"data_set_7.csv\")\n",
    "#daily features\n",
    "feature_8 = pd.read_csv(\"data_set_8.csv\")\n",
    "feature_9 = pd.read_csv(\"data_set_9.csv\")\n",
    "feature_10 = pd.read_csv(\"data_set_10.csv\")\n",
    "feature_11 = pd.read_csv(\"data_set_11.csv\")\n",
    "#daily return\n",
    "stock_rtn_1 = pd.read_csv(\"security_reference_data_w_ret1d_1.csv\")\n",
    "stock_rtn_2 = pd.read_csv(\"security_reference_data_w_ret1d_2.csv\")\n",
    "#risk_factors\n",
    "risk_factors_1 = pd.read_csv(\"risk_factors_1.csv\")\n",
    "risk_factors_2 = pd.read_csv(\"risk_factors_2.csv\")\n",
    "#merge daily retruns\n",
    "stock_rtn = pd.concat([stock_rtn_1,stock_rtn_2],axis = 0)\n",
    "stock_rtn.to_csv(\"stock_rtn.csv\")"
   ]
  },
  {
   "cell_type": "markdown",
   "id": "8a073c3d",
   "metadata": {},
   "source": [
    "# Quarterly cross-section factor "
   ]
  },
  {
   "cell_type": "code",
   "execution_count": 3,
   "id": "59ba3b17",
   "metadata": {},
   "outputs": [
    {
     "name": "stdout",
     "output_type": "stream",
     "text": [
      "7876\n"
     ]
    }
   ],
   "source": [
    "def cal_stock_rtn(stock_id,time_period = 5):\n",
    "    stock_temp = stock_rtn[stock_rtn.security_id == stock_id]\n",
    "    stock_temp[\"log_ret_1\"] = stock_temp[\"ret1d\"].apply(lambda x:math.log(1+x)).shift(-1)\n",
    "    stock_temp[\"log_ret_1\"].rolling(window = time_period).sum().shift(-time_period+1)\n",
    "    return stock_temp[\"log_ret_1\"].rolling(window = time_period).sum().shift(-time_period+1).fillna(0)\n",
    "\n",
    "def cal_stock_rtn_diff_period(stock_id):\n",
    "    stock_temp = stock_rtn[stock_rtn.security_id == stock_id]\n",
    "    stock_temp[\"log_ret_1\"] = cal_stock_rtn(stock_id,1)\n",
    "    stock_temp[\"log_ret_5\"] = cal_stock_rtn(stock_id,5)\n",
    "    stock_temp[\"log_ret_10\"] = cal_stock_rtn(stock_id,10)\n",
    "    stock_temp[\"log_ret_22\"] = cal_stock_rtn(stock_id,22)\n",
    "    stock_temp[\"log_ret_66\"] = cal_stock_rtn(stock_id,66)\n",
    "    return stock_temp[[\"data_date\",\"security_id\",\"log_ret_1\",\"log_ret_5\",\"log_ret_10\",\"log_ret_22\",\"log_ret_66\"]]\n",
    "\n",
    "def cal_all_stock_rtn():\n",
    "    stock_list = list(set(stock_rtn[\"security_id\"]))\n",
    "    print(len(stock_list))\n",
    "    df_init = cal_stock_rtn_diff_period(stock_list[0])\n",
    "    for i in range(1,len(stock_list)):\n",
    "        df_temp = cal_stock_rtn_diff_period(stock_list[i])\n",
    "        df_init = pd.concat([df_init,df_temp],axis = 0)\n",
    "        \n",
    "    return df_init\n",
    "\n",
    "\n",
    "df = cal_all_stock_rtn()\n",
    "df.to_csv(\"rtn_diff_period.csv\")"
   ]
  },
  {
   "cell_type": "code",
   "execution_count": 4,
   "id": "cb0fd2ab",
   "metadata": {},
   "outputs": [],
   "source": [
    "def to_quarter(dataframe):\n",
    "    def tranfer(string):\n",
    "        if string in [\"01\",\"02\",\"03\"]:\n",
    "            return 1\n",
    "        if string in [\"04\",\"05\",\"06\"]:\n",
    "            return 2\n",
    "        if string in [\"07\",\"08\",\"09\"]:\n",
    "            return 3\n",
    "        if string in [\"10\",\"11\",\"12\"]:\n",
    "            return 4\n",
    "    dataframe[\"year\"] = dataframe[\"data_date\"].apply(lambda x: int(str(x)[:4]))\n",
    "    dataframe[\"quarter\"] = dataframe[\"data_date\"].apply(lambda x: tranfer(str(x)[4:6]))\n",
    "    dataframe[\"year\"] = dataframe[\"year\"].apply(lambda x: str(x))\n",
    "    dataframe[\"quarter\"] = dataframe[\"quarter\"].apply(lambda x: \"q\"+str(x))\n",
    "    dataframe[\"quarter\"]  = dataframe[\"year\"] + dataframe[\"quarter\"] \n",
    "    return dataframe\n",
    "\n",
    "def cal_rtn(dataframe):\n",
    "    df = pd.read_csv(\"rtn_diff_period.csv\")\n",
    "    dataframe = to_quarter(dataframe)\n",
    "    df_init = pd.DataFrame({\"log_ret_1\":[0],\"log_ret_5\":[0],\"log_ret_10\":[0],\"log_ret_22\":[0],\"log_ret_66\":[0]})\n",
    "    df_new = df_init\n",
    "    for i in range(len(dataframe)):\n",
    "        df_temp = df[(df.security_id == dataframe[\"security_id\"][i])&(df.data_date == dataframe[\"data_date\"][i])][[\"log_ret_1\",\"log_ret_5\",\"log_ret_10\",\"log_ret_22\",\"log_ret_66\"]]\n",
    "        if abs(df_temp.values).sum() !=0:\n",
    "            df_new = pd.concat([df_new,df_temp])\n",
    "        else:\n",
    "            df_new = pd.concat([df_new,df_init])\n",
    "    \n",
    "    df_new = df_new[1:]\n",
    "    df_new.index = range(len(df_new))\n",
    "    df_new = pd.concat([dataframe,df_new],axis =1)\n",
    "\n",
    "    \n",
    "    \n",
    "    \n",
    "    return df_new\n",
    "\n"
   ]
  },
  {
   "cell_type": "code",
   "execution_count": 5,
   "id": "7357a251",
   "metadata": {},
   "outputs": [],
   "source": [
    "stock_rtn = pd.read_csv(\"stock_rtn.csv\")\n",
    "rtn_diff_period = pd.read_csv(\"rtn_diff_period.csv\")"
   ]
  },
  {
   "cell_type": "code",
   "execution_count": 6,
   "id": "692dd80b",
   "metadata": {},
   "outputs": [],
   "source": [
    "rtn_diff_period = rtn_diff_period[[\"data_date\",\"security_id\",\"log_ret_1\"]]"
   ]
  },
  {
   "cell_type": "code",
   "execution_count": 8,
   "id": "62ca000b",
   "metadata": {},
   "outputs": [],
   "source": [
    "stock_rtn = pd.merge(stock_rtn,rtn_diff_period,on = [\"data_date\",\"security_id\"],how = \"left\")"
   ]
  },
  {
   "cell_type": "code",
   "execution_count": 9,
   "id": "33edb770",
   "metadata": {},
   "outputs": [],
   "source": [
    "stock_rtn.to_csv(\"stock_rtn.csv\")"
   ]
  },
  {
   "cell_type": "markdown",
   "id": "3bb1411d",
   "metadata": {},
   "source": [
    "add future retruns to the feature list"
   ]
  },
  {
   "cell_type": "code",
   "execution_count": 10,
   "id": "1d9574bb",
   "metadata": {},
   "outputs": [],
   "source": [
    "feature_1 = feature_1.dropna()\n",
    "feature_1 = feature_1.drop_duplicates()\n",
    "feature_1 = to_quarter(feature_1)\n",
    "df = pd.read_csv(\"rtn_diff_period.csv\")[[\"data_date\",\"security_id\",\"log_ret_66\"]]\n",
    "df.fillna(0,inplace = True)\n",
    "df_new = pd.merge(feature_1,df,on = [\"data_date\",\"security_id\"],how = \"left\")\n",
    "\n",
    "df_new.to_csv(\"feature_1.csv\")"
   ]
  },
  {
   "cell_type": "code",
   "execution_count": 11,
   "id": "8e953fac",
   "metadata": {},
   "outputs": [],
   "source": [
    "feature_2 = feature_2.dropna()\n",
    "feature_2 = feature_2.drop_duplicates()\n",
    "feature_2 = to_quarter(feature_2)\n",
    "df = pd.read_csv(\"rtn_diff_period.csv\")[[\"data_date\",\"security_id\",\"log_ret_66\"]]\n",
    "df.fillna(0,inplace = True)\n",
    "df_new = pd.merge(feature_2,df,on = [\"data_date\",\"security_id\"],how = \"left\")\n",
    "df_new.to_csv(\"feature_2.csv\")"
   ]
  },
  {
   "cell_type": "code",
   "execution_count": 12,
   "id": "4d435684",
   "metadata": {},
   "outputs": [],
   "source": [
    "feature_3 = feature_3.dropna()\n",
    "feature_3 = feature_3.drop_duplicates()\n",
    "feature_3 = to_quarter(feature_3)\n",
    "df = pd.read_csv(\"rtn_diff_period.csv\")[[\"data_date\",\"security_id\",\"log_ret_66\"]]\n",
    "df.fillna(0,inplace = True)\n",
    "df_new = pd.merge(feature_3,df,on = [\"data_date\",\"security_id\"],how = \"left\")\n",
    "df_new.to_csv(\"feature_3.csv\")"
   ]
  },
  {
   "cell_type": "code",
   "execution_count": 13,
   "id": "48f5c307",
   "metadata": {},
   "outputs": [],
   "source": [
    "feature_4 = feature_4.dropna()\n",
    "feature_4 = feature_4.drop_duplicates()\n",
    "feature_4 = to_quarter(feature_4)\n",
    "df = pd.read_csv(\"rtn_diff_period.csv\")[[\"data_date\",\"security_id\",\"log_ret_66\"]]\n",
    "df.fillna(0,inplace = True)\n",
    "df_new = pd.merge(feature_4,df,on = [\"data_date\",\"security_id\"],how = \"left\")\n",
    "df_new.to_csv(\"feature_4.csv\")\n"
   ]
  },
  {
   "cell_type": "code",
   "execution_count": 14,
   "id": "12f172c5",
   "metadata": {},
   "outputs": [],
   "source": [
    "feature_5 = feature_5.dropna()\n",
    "feature_5 = feature_5.drop_duplicates()\n",
    "feature_5 = to_quarter(feature_5)\n",
    "df = pd.read_csv(\"rtn_diff_period.csv\")[[\"data_date\",\"security_id\",\"log_ret_66\"]]\n",
    "df.fillna(0,inplace = True)\n",
    "df_new = pd.merge(feature_5,df,on = [\"data_date\",\"security_id\"],how = \"left\")\n",
    "df_new.to_csv(\"feature_5.csv\")\n",
    "\n",
    "feature_6 = feature_6.dropna()\n",
    "feature_6 = feature_6.drop_duplicates()\n",
    "feature_6 = to_quarter(feature_6)\n",
    "df = pd.read_csv(\"rtn_diff_period.csv\")[[\"data_date\",\"security_id\",\"log_ret_66\"]]\n",
    "df.fillna(0,inplace = True)\n",
    "df_new = pd.merge(feature_6,df,on = [\"data_date\",\"security_id\"],how = \"left\")\n",
    "df_new.to_csv(\"feature_6.csv\")\n",
    "\n",
    "feature_7 = feature_7.dropna()\n",
    "feature_7 = feature_7.drop_duplicates()\n",
    "feature_7 = to_quarter(feature_7)\n",
    "df = pd.read_csv(\"rtn_diff_period.csv\")[[\"data_date\",\"security_id\",\"log_ret_66\"]]\n",
    "df.fillna(0,inplace = True)\n",
    "df_new = pd.merge(feature_7,df,on = [\"data_date\",\"security_id\"],how = \"left\")\n",
    "df_new.to_csv(\"feature_7.csv\")\n"
   ]
  },
  {
   "cell_type": "markdown",
   "id": "f09a9b8f",
   "metadata": {},
   "source": [
    "# Daily Time-Series factor"
   ]
  },
  {
   "cell_type": "code",
   "execution_count": 15,
   "id": "a3d1a3fc",
   "metadata": {},
   "outputs": [],
   "source": [
    "stock_rtn = pd.read_csv(\"stock_rtn.csv\")"
   ]
  },
  {
   "cell_type": "code",
   "execution_count": 16,
   "id": "04b6c5fa",
   "metadata": {},
   "outputs": [],
   "source": [
    "def cal_stock_rtn(stock_id,time_period = 5):\n",
    "    stock_temp = stock_rtn[stock_rtn.security_id == stock_id]\n",
    "    stock_temp[\"log_ret_1\"] = stock_temp[\"ret1d\"].apply(lambda x:math.log(1+x)).shift(-1)\n",
    "    return stock_temp[\"log_ret_1\"].rolling(window = time_period).sum().shift(-time_period+1).fillna(0)\n",
    "\n",
    "def cal_stock_rtn_diff_period(stock_id):\n",
    "    stock_temp = stock_rtn[stock_rtn.security_id == stock_id]\n",
    "    stock_temp[\"log_ret_1\"] = cal_stock_rtn(stock_id,1)\n",
    "\n",
    "    return stock_temp[[\"data_date\",\"security_id\",\"log_ret_1\"]]\n",
    "\n",
    "def cal_all_stock_rtn():\n",
    "    stock_list = list(set(stock_rtn[\"security_id\"]))\n",
    "    df_init = cal_stock_rtn_diff_period(stock_list[0])\n",
    "    for i in range(1,len(stock_list)):\n",
    "        df_temp = cal_stock_rtn_diff_period(stock_list[i])\n",
    "        df_init = pd.concat([df_init,df_temp],axis = 0)\n",
    "        \n",
    "    return df_init\n",
    "\n",
    "\n",
    "df = cal_all_stock_rtn()\n",
    "df\n",
    "df.to_csv(\"rtn_diff_short_period.csv\")"
   ]
  },
  {
   "cell_type": "markdown",
   "id": "336e460c",
   "metadata": {},
   "source": [
    "add return to the feature"
   ]
  },
  {
   "cell_type": "code",
   "execution_count": 17,
   "id": "fc8ea771",
   "metadata": {},
   "outputs": [],
   "source": [
    "feature_8 = feature_8.dropna()\n",
    "feature_8 = feature_8.drop_duplicates()\n",
    "df = pd.read_csv(\"rtn_diff_short_period.csv\")[[\"data_date\",\"security_id\",\"log_ret_1\"]]\n",
    "df.fillna(0,inplace = True)\n",
    "df_new = pd.merge(feature_8,df,on = [\"data_date\",\"security_id\"],how = \"left\")\n",
    "df_new.fillna(0,inplace = True)\n",
    "df_new.to_csv(\"feature_8.csv\")"
   ]
  },
  {
   "cell_type": "code",
   "execution_count": 18,
   "id": "ffc98296",
   "metadata": {},
   "outputs": [],
   "source": [
    "feature_9 = feature_9.dropna()\n",
    "feature_9 = feature_9.drop_duplicates()\n",
    "df = pd.read_csv(\"rtn_diff_short_period.csv\")[[\"data_date\",\"security_id\",\"log_ret_1\"]]\n",
    "df.fillna(0,inplace = True)\n",
    "df_new = pd.merge(feature_9,df,on = [\"data_date\",\"security_id\"],how = \"left\")\n",
    "df_new.fillna(0,inplace = True)\n",
    "df_new.to_csv(\"feature_9.csv\")"
   ]
  },
  {
   "cell_type": "code",
   "execution_count": 19,
   "id": "af070d39",
   "metadata": {},
   "outputs": [],
   "source": [
    "feature_10 = feature_10.dropna()\n",
    "feature_10 = feature_10.drop_duplicates()\n",
    "df = pd.read_csv(\"rtn_diff_short_period.csv\")[[\"data_date\",\"security_id\",\"log_ret_1\"]]\n",
    "df.fillna(0,inplace = True)\n",
    "df_new = pd.merge(feature_10,df ,on = [\"data_date\",\"security_id\"],how = \"left\")\n",
    "df_new.fillna(0,inplace = True)\n",
    "df_new.to_csv(\"feature_10.csv\")"
   ]
  },
  {
   "cell_type": "code",
   "execution_count": 20,
   "id": "bd2687a2",
   "metadata": {},
   "outputs": [],
   "source": [
    "feature_11 = feature_11.dropna()\n",
    "feature_11 = feature_11.drop_duplicates()\n",
    "df = pd.read_csv(\"rtn_diff_short_period.csv\")[[\"data_date\",\"security_id\",\"log_ret_1\"]]\n",
    "df.fillna(0,inplace = True)\n",
    "df_new = pd.merge(feature_11,df ,on = [\"data_date\",\"security_id\"],how = \"left\")\n",
    "df_new.fillna(0,inplace = True)\n",
    "df_new.to_csv(\"feature_11.csv\")"
   ]
  }
 ],
 "metadata": {
  "kernelspec": {
   "display_name": "Python 3 (ipykernel)",
   "language": "python",
   "name": "python3"
  },
  "language_info": {
   "codemirror_mode": {
    "name": "ipython",
    "version": 3
   },
   "file_extension": ".py",
   "mimetype": "text/x-python",
   "name": "python",
   "nbconvert_exporter": "python",
   "pygments_lexer": "ipython3",
   "version": "3.11.0"
  }
 },
 "nbformat": 4,
 "nbformat_minor": 5
}
